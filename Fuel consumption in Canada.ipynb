{
 "cells": [
  {
   "cell_type": "code",
   "execution_count": 16,
   "id": "f3cf195b",
   "metadata": {
    "scrolled": false
   },
   "outputs": [],
   "source": [
    "\n",
    "# Install tensorflow using the following command\n",
    "# !pip install tensorflow==2.5.0"
   ]
  },
  {
   "cell_type": "code",
   "execution_count": 25,
   "id": "d7c1e5db",
   "metadata": {
    "scrolled": true
   },
   "outputs": [],
   "source": [
    "#Importing\n",
    "import matplotlib.pyplot as plt\n",
    "import pandas as pd\n",
    "import pylab as pl\n",
    "import numpy as np\n",
    "import tensorflow as tf\n",
    "import matplotlib.patches as mpatches\n",
    "import matplotlib.pyplot as plt\n",
    "%matplotlib inline\n",
    "from scipy import signal\n",
    "from scipy import misc\n",
    "from PIL import Image\n",
    "plt.rcParams['figure.figsize'] = (10, 6)"
   ]
  },
  {
   "cell_type": "code",
   "execution_count": 21,
   "id": "5226157e",
   "metadata": {
    "scrolled": true
   },
   "outputs": [],
   "source": [
    "if not tf.__version__ == '2.5.0':\n",
    "    print(tf.__version__)\n",
    "    raise ValueError('please upgrade to TensorFlow 2.5.0, or restart your Kernel (Kernel->Restart & Clear Output)')"
   ]
  },
  {
   "cell_type": "code",
   "execution_count": 20,
   "id": "c299e266",
   "metadata": {
    "scrolled": true
   },
   "outputs": [
    {
     "data": {
      "text/plain": [
       "array([0. , 0.1, 0.2, 0.3, 0.4, 0.5, 0.6, 0.7, 0.8, 0.9, 1. , 1.1, 1.2,\n",
       "       1.3, 1.4, 1.5, 1.6, 1.7, 1.8, 1.9, 2. , 2.1, 2.2, 2.3, 2.4, 2.5,\n",
       "       2.6, 2.7, 2.8, 2.9, 3. , 3.1, 3.2, 3.3, 3.4, 3.5, 3.6, 3.7, 3.8,\n",
       "       3.9, 4. , 4.1, 4.2, 4.3, 4.4, 4.5, 4.6, 4.7, 4.8, 4.9])"
      ]
     },
     "execution_count": 20,
     "metadata": {},
     "output_type": "execute_result"
    }
   ],
   "source": [
    "X = np.arange(0.0, 5.0, 0.1)\n",
    "X"
   ]
  },
  {
   "cell_type": "code",
   "execution_count": 21,
   "id": "6f141f5a",
   "metadata": {},
   "outputs": [
    {
     "data": {
      "image/png": "[encoded data removed]",
      "text/plain": [
       "<Figure size 720x432 with 1 Axes>"
      ]
     },
     "metadata": {
      "needs_background": "light"
     },
     "output_type": "display_data"
    }
   ],
   "source": [
    "##You can adjust the slope and intercept to verify the changes in the graph\n",
    "a = 1\n",
    "b = 0\n",
    "\n",
    "Y= a * X + b \n",
    "\n",
    "plt.plot(X, Y) \n",
    "plt.ylabel('Dependent Variable')\n",
    "plt.xlabel('Indepdendent Variable')\n",
    "plt.show()"
   ]
  },
  {
   "cell_type": "code",
   "execution_count": 36,
   "id": "67566cba",
   "metadata": {
    "scrolled": true
   },
   "outputs": [],
   "source": [
    "\n",
    "# df = pd.read_csv(\"MY2022FuelConsumptionRatings.csv\")\n",
    "# df\n",
    "# take a look at the dataset\n",
    "# df.head()"
   ]
  },
  {
   "cell_type": "code",
   "execution_count": 1,
   "id": "f4d99af1",
   "metadata": {},
   "outputs": [
    {
     "data": {
      "text/plain": [
       "array([ 6, 11, 14,  5,  0])"
      ]
     },
     "execution_count": 1,
     "metadata": {},
     "output_type": "execute_result"
    }
   ],
   "source": [
    "import numpy as np\n",
    "\n",
    "h = [2, 1, 0]\n",
    "x = [3, 4, 5]\n",
    " \n",
    "\n",
    "y = np.convolve(x, h)\n",
    "y"
   ]
  },
  {
   "cell_type": "code",
   "execution_count": 2,
   "id": "02c3bc86",
   "metadata": {},
   "outputs": [
    {
     "data": {
      "text/plain": [
       "array([ 6, 14, 34, 34,  8])"
      ]
     },
     "execution_count": 2,
     "metadata": {},
     "output_type": "execute_result"
    }
   ],
   "source": [
    "x = [6, 2]\n",
    "h = [1, 2, 5, 4]\n",
    "\n",
    "#now, because of the zero padding, the final dimension of the array is bigger\n",
    "\n",
    "y = np.convolve(x, h, \"full\") \n",
    "y "
   ]
  },
  {
   "cell_type": "code",
   "execution_count": 3,
   "id": "3b6f7834",
   "metadata": {},
   "outputs": [
    {
     "data": {
      "text/plain": [
       "array([ 6, 14, 34, 34])"
      ]
     },
     "execution_count": 3,
     "metadata": {},
     "output_type": "execute_result"
    }
   ],
   "source": [
    "# using the same padding\n",
    "x = [6, 2]\n",
    "h = [1, 2, 5, 4]\n",
    "# it is same as zero padding, but with returns an ouput with the same length as max of x or h\n",
    "\n",
    "y = np.convolve(x, h, \"same\")  \n",
    "y  "
   ]
  },
  {
   "cell_type": "code",
   "execution_count": 4,
   "id": "a3d88452",
   "metadata": {},
   "outputs": [
    {
     "data": {
      "text/plain": [
       "array([14, 34, 34])"
      ]
     },
     "execution_count": 4,
     "metadata": {},
     "output_type": "execute_result"
    }
   ],
   "source": [
    "# Visually understanding the operation with no padding (valid)\n",
    "x = [6, 2]\n",
    "h = [1, 2, 5, 4]\n",
    "\n",
    " # valid returns output of length max(x, h) - min(x, h) + 1, this is to ensure that values outside of the boundary\n",
    "# of h will not be used in the calculation of the convolution in the next example we will understand why we used \n",
    "# the argument valid\n",
    "\n",
    "y = np.convolve(x, h, \"valid\")  \n",
    "y  "
   ]
  },
  {
   "cell_type": "code",
   "execution_count": 5,
   "id": "d7260154",
   "metadata": {},
   "outputs": [
    {
     "name": "stdout",
     "output_type": "stream",
     "text": [
      "Without zero padding \n",
      "\n",
      "[[248   4]\n",
      " [-28 236]\n",
      " [  2 -14]] \n",
      "\n",
      "With zero padding \n",
      "\n",
      "[[-255  248    4    3]\n",
      " [-212  -28  236    4]\n",
      " [-218    2  -14  230]]\n"
     ]
    }
   ],
   "source": [
    "from scipy import signal as sg\n",
    "\n",
    "I= [[255,   7,  3],\n",
    "    [212, 240,  4],\n",
    "    [218, 216, 230],]\n",
    "\n",
    "g= [[-1, 1]]\n",
    "\n",
    "print('Without zero padding \\n')\n",
    "print('{0} \\n'.format(sg.convolve( I, g, 'valid')))\n",
    "# The 'valid' argument states that the output consists only of those elements \n",
    "# that do not rely on the zero-padding.\n",
    "\n",
    "print('With zero padding \\n')\n",
    "print(sg.convolve( I, g))"
   ]
  },
  {
   "cell_type": "code",
   "execution_count": 6,
   "id": "79bae439",
   "metadata": {
    "scrolled": true
   },
   "outputs": [
    {
     "name": "stdout",
     "output_type": "stream",
     "text": [
      "With zero padding \n",
      "\n",
      "[[-255  248    4    3]\n",
      " [ 298  751  263   13]\n",
      " [ 206 1118  714  242]\n",
      " [ 436 1086 1108  690]] \n",
      "\n",
      "With zero padding_same_ \n",
      "\n",
      "[[-255  248    4]\n",
      " [ 298  751  263]\n",
      " [ 206 1118  714]] \n",
      "\n",
      "Without zero padding \n",
      "\n",
      "[[ 751  263]\n",
      " [1118  714]]\n"
     ]
    }
   ],
   "source": [
    "I= [[255,   7,  3],\n",
    "    [212, 240,  4],\n",
    "    [218, 216, 230],]\n",
    "\n",
    "g= [[-1,  1],\n",
    "    [ 2,  3],]\n",
    "\n",
    "print ('With zero padding \\n')\n",
    "print ('{0} \\n'.format(sg.convolve( I, g, 'full')))\n",
    "# The output is the full discrete linear convolution of the inputs. \n",
    "# It will use zero to complete the input matrix\n",
    "\n",
    "print ('With zero padding_same_ \\n')\n",
    "print ('{0} \\n'.format(sg.convolve( I, g, 'same')))\n",
    "# The output is the full discrete linear convolution of the inputs. \n",
    "# It will use zero to complete the input matrix\n",
    "\n",
    "\n",
    "print ('Without zero padding \\n')\n",
    "print (sg.convolve( I, g, 'valid'))\n",
    "# The 'valid' argument states that the output consists only of those elements \n",
    "#that do not rely on the zero-padding."
   ]
  },
  {
   "cell_type": "code",
   "execution_count": 9,
   "id": "9f365591",
   "metadata": {},
   "outputs": [],
   "source": [
    "from IPython.display import Markdown, display\n",
    "\n",
    "def printmd(string):\n",
    "    display(Markdown('# <span style=\"color:red\">'+string+'</span>'))\n",
    "\n"
   ]
  },
  {
   "cell_type": "code",
   "execution_count": 22,
   "id": "eaf40cf2",
   "metadata": {
    "scrolled": false
   },
   "outputs": [
    {
     "name": "stdout",
     "output_type": "stream",
     "text": [
      "Input \n",
      "\n",
      "[[[[-0.7754665 ]\n",
      "   [-0.69352525]\n",
      "   [ 1.8745735 ]\n",
      "   [ 0.2176765 ]\n",
      "   [-0.94423336]\n",
      "   [-1.5733237 ]\n",
      "   [-1.1172627 ]\n",
      "   [ 0.03399584]\n",
      "   [-0.34674546]\n",
      "   [ 0.02516864]]\n",
      "\n",
      "  [[-0.7966152 ]\n",
      "   [-0.5840901 ]\n",
      "   [-0.34850425]\n",
      "   [ 1.8911564 ]\n",
      "   [-0.6980202 ]\n",
      "   [ 0.04599928]\n",
      "   [ 0.928772  ]\n",
      "   [ 1.0368159 ]\n",
      "   [ 0.92857915]\n",
      "   [ 0.06638741]]\n",
      "\n",
      "  [[-1.7601851 ]\n",
      "   [ 0.05852397]\n",
      "   [ 0.5836977 ]\n",
      "   [-0.51683855]\n",
      "   [ 0.17798871]\n",
      "   [ 0.8442537 ]\n",
      "   [-1.1260836 ]\n",
      "   [-0.26109207]\n",
      "   [-0.6020146 ]\n",
      "   [ 0.3628204 ]]\n",
      "\n",
      "  [[-0.03203655]\n",
      "   [-1.1675986 ]\n",
      "   [-1.0495933 ]\n",
      "   [-1.2667263 ]\n",
      "   [ 0.80405426]\n",
      "   [ 0.59987277]\n",
      "   [ 0.5042987 ]\n",
      "   [ 1.5931358 ]\n",
      "   [ 0.7845057 ]\n",
      "   [ 0.7099104 ]]\n",
      "\n",
      "  [[ 0.046532  ]\n",
      "   [ 0.94159687]\n",
      "   [-0.19173782]\n",
      "   [ 0.60233504]\n",
      "   [ 0.92230374]\n",
      "   [-0.8594263 ]\n",
      "   [-1.3856007 ]\n",
      "   [-0.24437322]\n",
      "   [-0.45346224]\n",
      "   [-0.4420038 ]]\n",
      "\n",
      "  [[-1.2718554 ]\n",
      "   [ 0.8956134 ]\n",
      "   [ 1.0050269 ]\n",
      "   [ 1.3313459 ]\n",
      "   [-0.6359944 ]\n",
      "   [ 0.44775978]\n",
      "   [ 0.53812647]\n",
      "   [ 0.5728968 ]\n",
      "   [ 1.0774916 ]\n",
      "   [-1.3984702 ]]\n",
      "\n",
      "  [[ 0.02510529]\n",
      "   [ 0.20355706]\n",
      "   [ 0.5246259 ]\n",
      "   [ 0.5550256 ]\n",
      "   [-1.8035212 ]\n",
      "   [ 1.2135421 ]\n",
      "   [-0.7606165 ]\n",
      "   [-0.33027536]\n",
      "   [-0.896993  ]\n",
      "   [ 0.6023807 ]]\n",
      "\n",
      "  [[ 0.8142104 ]\n",
      "   [ 1.587445  ]\n",
      "   [-0.6063489 ]\n",
      "   [-1.5053188 ]\n",
      "   [-1.7071705 ]\n",
      "   [-0.70423305]\n",
      "   [ 1.0905403 ]\n",
      "   [-0.16917436]\n",
      "   [-0.15154576]\n",
      "   [-0.33728215]]\n",
      "\n",
      "  [[-1.8612701 ]\n",
      "   [-1.1421356 ]\n",
      "   [-2.0363252 ]\n",
      "   [ 0.8604699 ]\n",
      "   [-0.721402  ]\n",
      "   [ 0.01710233]\n",
      "   [ 0.19329365]\n",
      "   [ 0.8582974 ]\n",
      "   [-0.91778654]\n",
      "   [-0.8008329 ]]\n",
      "\n",
      "  [[-0.28528747]\n",
      "   [ 0.25521326]\n",
      "   [ 0.32255834]\n",
      "   [-0.41972104]\n",
      "   [-1.3387666 ]\n",
      "   [ 1.2322176 ]\n",
      "   [ 1.7532858 ]\n",
      "   [ 0.1644862 ]\n",
      "   [ 0.67341894]\n",
      "   [ 1.3329501 ]]]] \n",
      "\n",
      "Filter/Kernel \n",
      "\n",
      "[[[[ 1.2967261 ]]\n",
      "\n",
      "  [[-0.12540033]]\n",
      "\n",
      "  [[-1.3572834 ]]]\n",
      "\n",
      "\n",
      " [[[-0.51557404]]\n",
      "\n",
      "  [[ 0.5631862 ]]\n",
      "\n",
      "  [[ 0.02842875]]]\n",
      "\n",
      "\n",
      " [[[-0.03769751]]\n",
      "\n",
      "  [[-0.965265  ]]\n",
      "\n",
      "  [[-0.4891247 ]]]] \n",
      "\n",
      "Result/Feature Map with valid positions \n",
      "\n",
      "[[[[-3.6667092 ]\n",
      "   [-1.5840316 ]\n",
      "   [ 5.2998366 ]\n",
      "   [ 0.60401314]\n",
      "   [ 0.6306734 ]\n",
      "   [-0.23452653]\n",
      "   [-0.2620131 ]\n",
      "   [ 0.45718098]]\n",
      "\n",
      "  [[ 2.1119637 ]\n",
      "   [-1.3199354 ]\n",
      "   [ 0.54040015]\n",
      "   [ 1.8463348 ]\n",
      "   [-2.6758356 ]\n",
      "   [-3.8296032 ]\n",
      "   [-1.7101077 ]\n",
      "   [-0.22075179]]\n",
      "\n",
      "  [[-4.569818  ]\n",
      "   [ 0.53401065]\n",
      "   [-0.5945813 ]\n",
      "   [-1.2080396 ]\n",
      "   [ 3.0635116 ]\n",
      "   [ 3.0997782 ]\n",
      "   [ 0.5590731 ]\n",
      "   [-0.45177844]]\n",
      "\n",
      "  [[ 0.7221812 ]\n",
      "   [-1.894527  ]\n",
      "   [-2.841123  ]\n",
      "   [-2.0284705 ]\n",
      "   [-1.3874285 ]\n",
      "   [-2.6084378 ]\n",
      "   [-1.1470892 ]\n",
      "   [ 0.48434168]]\n",
      "\n",
      "  [[ 0.9371694 ]\n",
      "   [-0.2159445 ]\n",
      "   [-1.0358198 ]\n",
      "   [ 1.9264092 ]\n",
      "   [ 3.0484078 ]\n",
      "   [ 0.3294915 ]\n",
      "   [-0.28857002]\n",
      "   [ 1.1952517 ]]\n",
      "\n",
      "  [[-4.2754717 ]\n",
      "   [ 0.69634616]\n",
      "   [ 4.301254  ]\n",
      "   [ 1.9801087 ]\n",
      "   [ 0.1911431 ]\n",
      "   [-2.2712367 ]\n",
      "   [-0.45954087]\n",
      "   [ 2.505757  ]]\n",
      "\n",
      "  [[ 1.9206121 ]\n",
      "   [-0.17011252]\n",
      "   [ 2.0739336 ]\n",
      "   [-0.25107303]\n",
      "   [-1.0277759 ]\n",
      "   [ 2.482704  ]\n",
      "   [-0.7761191 ]\n",
      "   [ 0.10414886]]\n",
      "\n",
      "  [[ 1.5448612 ]\n",
      "   [ 3.52847   ]\n",
      "   [ 4.281392  ]\n",
      "   [-0.92611724]\n",
      "   [-5.2150545 ]\n",
      "   [-2.515182  ]\n",
      "   [ 1.4444165 ]\n",
      "   [-2.032956  ]]]]\n",
      "\n",
      "\n",
      "Result/Feature Map with padding \n",
      "\n",
      "[[[[ 0.59818953]\n",
      "   [ 0.8268125 ]\n",
      "   [ 0.85289216]\n",
      "   [-2.3416426 ]\n",
      "   [-0.10875198]\n",
      "   [-0.90338755]\n",
      "   [-1.2224731 ]\n",
      "   [-0.9046853 ]\n",
      "   [-1.1799762 ]\n",
      "   [ 0.09386102]]\n",
      "\n",
      "  [[ 2.243726  ]\n",
      "   [-3.6667092 ]\n",
      "   [-1.5840316 ]\n",
      "   [ 5.2998366 ]\n",
      "   [ 0.60401314]\n",
      "   [ 0.6306734 ]\n",
      "   [-0.23452653]\n",
      "   [-0.2620131 ]\n",
      "   [ 0.45718098]\n",
      "   [-1.2216762 ]]\n",
      "\n",
      "  [[ 0.50504845]\n",
      "   [ 2.1119637 ]\n",
      "   [-1.3199354 ]\n",
      "   [ 0.54040015]\n",
      "   [ 1.8463348 ]\n",
      "   [-2.6758356 ]\n",
      "   [-3.8296032 ]\n",
      "   [-1.7101077 ]\n",
      "   [-0.22075179]\n",
      "   [ 0.9956809 ]]\n",
      "\n",
      "  [[-0.4154157 ]\n",
      "   [-4.569818  ]\n",
      "   [ 0.53401065]\n",
      "   [-0.5945813 ]\n",
      "   [-1.2080396 ]\n",
      "   [ 3.0635116 ]\n",
      "   [ 3.0997782 ]\n",
      "   [ 0.5590731 ]\n",
      "   [-0.45177844]\n",
      "   [-0.3870597 ]]\n",
      "\n",
      "  [[ 2.431365  ]\n",
      "   [ 0.7221812 ]\n",
      "   [-1.894527  ]\n",
      "   [-2.841123  ]\n",
      "   [-2.0284705 ]\n",
      "   [-1.3874285 ]\n",
      "   [-2.6084378 ]\n",
      "   [-1.1470892 ]\n",
      "   [ 0.48434168]\n",
      "   [ 2.2224045 ]]\n",
      "\n",
      "  [[-2.0984771 ]\n",
      "   [ 0.9371694 ]\n",
      "   [-0.2159445 ]\n",
      "   [-1.0358198 ]\n",
      "   [ 1.9264092 ]\n",
      "   [ 3.0484078 ]\n",
      "   [ 0.3294915 ]\n",
      "   [-0.28857002]\n",
      "   [ 1.1952517 ]\n",
      "   [-2.4233575 ]]\n",
      "\n",
      "  [[-2.5985715 ]\n",
      "   [-4.2754717 ]\n",
      "   [ 0.69634616]\n",
      "   [ 4.301254  ]\n",
      "   [ 1.9801087 ]\n",
      "   [ 0.1911431 ]\n",
      "   [-2.2712367 ]\n",
      "   [-0.45954087]\n",
      "   [ 2.505757  ]\n",
      "   [ 2.7055786 ]]\n",
      "\n",
      "  [[ 2.579514  ]\n",
      "   [ 1.9206121 ]\n",
      "   [-0.17011252]\n",
      "   [ 2.0739336 ]\n",
      "   [-0.25107303]\n",
      "   [-1.0277759 ]\n",
      "   [ 2.482704  ]\n",
      "   [-0.7761191 ]\n",
      "   [ 0.10414886]\n",
      "   [-0.5428983 ]]\n",
      "\n",
      "  [[-3.1868794 ]\n",
      "   [ 1.5448612 ]\n",
      "   [ 3.52847   ]\n",
      "   [ 4.281392  ]\n",
      "   [-0.92611724]\n",
      "   [-5.2150545 ]\n",
      "   [-2.515182  ]\n",
      "   [ 1.4444165 ]\n",
      "   [-2.032956  ]\n",
      "   [-1.4440855 ]]\n",
      "\n",
      "  [[ 1.630191  ]\n",
      "   [ 0.7935264 ]\n",
      "   [-2.3554356 ]\n",
      "   [-2.2100558 ]\n",
      "   [ 0.68049777]\n",
      "   [ 0.23408526]\n",
      "   [-0.81021166]\n",
      "   [ 0.59654677]\n",
      "   [ 2.6473742 ]\n",
      "   [-0.6861911 ]]]]\n"
     ]
    }
   ],
   "source": [
    "input = tf.Variable(tf.random.normal([1, 10, 10, 1]))\n",
    "filter = tf.Variable(tf.random.normal([3, 3, 1, 1]))\n",
    "op = tf.nn.conv2d(input, filter, strides=[1, 1, 1, 1], padding='VALID')\n",
    "op2 = tf.nn.conv2d(input, filter, strides=[1, 1, 1, 1], padding='SAME')\n",
    "\n",
    "print(\"Input \\n\")\n",
    "print('{0} \\n'.format(input.numpy()))\n",
    "print(\"Filter/Kernel \\n\")\n",
    "print('{0} \\n'.format(filter.numpy()))\n",
    "print(\"Result/Feature Map with valid positions \\n\")\n",
    "print(op.numpy())\n",
    "print('\\n')\n",
    "print(\"Result/Feature Map with padding \\n\")\n",
    "print(op2.numpy())"
   ]
  },
  {
   "cell_type": "code",
   "execution_count": 26,
   "id": "2ae19db0",
   "metadata": {},
   "outputs": [
    {
     "name": "stdout",
     "output_type": "stream",
     "text": [
      "\n",
      " Original type: <PIL.Image.Image image mode=L size=1456x2592 at 0x7FA9053E40D0> \n",
      "\n",
      "\n",
      "After conversion to numerical representation: \n",
      "\n",
      " array([[242, 242, 242, ..., 225, 225, 225],\n",
      "       [241, 241, 241, ..., 226, 226, 226],\n",
      "       [241, 241, 241, ..., 226, 226, 226],\n",
      "       ...,\n",
      "       [112, 113, 112, ...,  12,  10,  11],\n",
      "       [111, 113, 114, ...,  13,  10,  11],\n",
      "       [111, 110, 112, ...,  10,  10,  15]], dtype=uint8)\n",
      "\n",
      " Input image converted to gray scale: \n",
      "\n"
     ]
    },
    {
     "data": {
      "image/png": "[encoded data removed]",
      "text/plain": [
       "<Figure size 432x288 with 1 Axes>"
      ]
     },
     "metadata": {
      "needs_background": "light"
     },
     "output_type": "display_data"
    }
   ],
   "source": [
    "im = Image.open('ml2.jpg')  # type here your image's name\n",
    "\n",
    "image_gr = im.convert(\"L\")\n",
    "# convert(\"L\") translate color images into black and white\n",
    "# uses the ITU-R 601-2 Luma transform (there are several \n",
    "# ways to convert an image to grey scale)\n",
    "print(\"\\n Original type: %r \\n\\n\" % image_gr)\n",
    "\n",
    "# convert image to a matrix with values from 0 to 255 (uint8) \n",
    "arr = np.asarray(image_gr) \n",
    "print(\"After conversion to numerical representation: \\n\\n %r\" % arr) \n",
    "### Activating matplotlib for Ipython\n",
    "%matplotlib inline\n",
    "### Plot image\n",
    "imgplot = plt.imshow(arr)\n",
    "imgplot.set_cmap('gray')  #you can experiment different colormaps (Greys,winter,autumn)\n",
    "print(\"\\n Input image converted to gray scale: \\n\")\n",
    "plt.show(imgplot)"
   ]
  }
 ],
 "metadata": {
  "kernelspec": {
   "display_name": "Python 3 (ipykernel)",
   "language": "python",
   "name": "python3"
  },
  "language_info": {
   "codemirror_mode": {
    "name": "ipython",
    "version": 3
   },
   "file_extension": ".py",
   "mimetype": "text/x-python",
   "name": "python",
   "nbconvert_exporter": "python",
   "pygments_lexer": "ipython3",
   "version": "3.9.7"
  }
 },
 "nbformat": 4,
 "nbformat_minor": 5
}
